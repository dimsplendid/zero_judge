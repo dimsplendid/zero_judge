{
 "cells": [
  {
   "cell_type": "code",
   "execution_count": 142,
   "id": "a834e4bc-4edb-4953-84f4-0e7e4a19ab19",
   "metadata": {},
   "outputs": [],
   "source": [
    "def test(data, f):\n",
    "    for i, o in data:\n",
    "        assert f(i) == o\n",
    "    # print(f\"All {len(data)} Test Pass\")"
   ]
  },
  {
   "cell_type": "markdown",
   "id": "3e7abdc8-3f01-488a-b53f-af40565758e6",
   "metadata": {},
   "source": [
    "## a010: 因數分解\n",
    "\n",
    "各位在國小時都學過因數分解，都瞭解怎麼樣用紙筆計算出結果，現在由你來敎電腦做因數分解。\n",
    "因數分解就是把一個數字，切分為數個質數的乘積，如 12=2^2 * 3\n",
    "其中, 次方的符號以 ^ 來表示\n"
   ]
  },
  {
   "cell_type": "code",
   "execution_count": 184,
   "id": "66f8b522-6d3d-42f2-83b1-def88650b832",
   "metadata": {},
   "outputs": [],
   "source": [
    "def prime_gen(stop=None, lt=None):\n",
    "    \n",
    "    primes = [2,3]\n",
    "    def is_prime(num):\n",
    "        for prime in primes:\n",
    "            if num % prime == 0:\n",
    "                return False\n",
    "            if prime ** 2 > num:\n",
    "                return True\n",
    "        return True\n",
    "    \n",
    "    i = 0\n",
    "    while True and stop != 0:\n",
    "        if i >= len(primes):\n",
    "            last_prime = primes[-1] + 2\n",
    "            while not is_prime(last_prime):\n",
    "                last_prime += 2\n",
    "            if lt is not None and last_prime > lt:\n",
    "                break\n",
    "            primes.append(last_prime)\n",
    "\n",
    "        yield primes[i]\n",
    "\n",
    "        if stop is not None:\n",
    "            stop -= 1\n",
    "        i += 1\n",
    "\n",
    "def factorize(num):\n",
    "    if num == 1:\n",
    "        return []\n",
    "    for prime in prime_gen():\n",
    "        if num % prime == 0:\n",
    "            return [prime, *factorize(num / prime)]\n",
    "    return [num]\n",
    "\n",
    "def pretty_print(data):\n",
    "    def group_counts(data):\n",
    "        # List of positions where data changes\n",
    "        change_indices = [i for i in range(1, len(data)) if data[i] != data[i - 1]]\n",
    "        \n",
    "        # Create the start and end indices of each group\n",
    "        group_ranges = zip([0] + change_indices, change_indices + [len(data)])\n",
    "        \n",
    "        # Generate \"number^count\" strings for each group\n",
    "        return [f\"{data[start]}^{end - start}\" if (end - start) > 1 else f\"{data[start]}\" for start, end in group_ranges]\n",
    "    \n",
    "    # Generate output string by joining groups with \" * \"\n",
    "    output = \" * \".join(group_counts(data))\n",
    "    return output\n",
    "            \n",
    "\n",
    "def solution(x=None):\n",
    "    if x is None:\n",
    "        x = input()\n",
    "    print(pretty_print(factorize(int(x))))"
   ]
  },
  {
   "cell_type": "code",
   "execution_count": 143,
   "id": "8241eea3-744a-457b-9ce3-e8982e05ac6f",
   "metadata": {},
   "outputs": [
    {
     "name": "stdout",
     "output_type": "stream",
     "text": [
      "874 μs ± 21.5 μs per loop (mean ± std. dev. of 7 runs, 1,000 loops each)\n"
     ]
    }
   ],
   "source": [
    "# test\n",
    "\n",
    "test_data = [\n",
    "    (\"2\", \"2\"),\n",
    "    (\"20\", \"2^2 * 5\"),\n",
    "    (\"17\", \"17\"),\n",
    "    (\"999997\", \"757 * 1321\")\n",
    "]\n",
    "\n",
    "%timeit test(test_data, lambda i: pretty_print(factorize(int(i))))\n"
   ]
  },
  {
   "cell_type": "code",
   "execution_count": 185,
   "id": "60da72c4-df9c-4484-94c0-c990c9cefc54",
   "metadata": {},
   "outputs": [
    {
     "name": "stdout",
     "output_type": "stream",
     "text": [
      "2^4 * 3^2 * 5 * 7^2\n"
     ]
    }
   ],
   "source": [
    "solution(2 ** 4 * 3 ** 2 * 5 * 7 ** 2)\n"
   ]
  },
  {
   "cell_type": "code",
   "execution_count": 177,
   "id": "e260da1c-6e80-4e41-a257-187cb5dc278e",
   "metadata": {},
   "outputs": [
    {
     "data": {
      "text/plain": [
       "[(0, 3), (3, 6), (6, 8)]"
      ]
     },
     "execution_count": 177,
     "metadata": {},
     "output_type": "execute_result"
    }
   ],
   "source": [
    "change_indices = [i for i in range(1, len(data)) if data[i] != data[i - 1]]\n",
    "list(zip([0] + change_indices, change_indices + [len(data)]))"
   ]
  },
  {
   "cell_type": "code",
   "execution_count": 168,
   "id": "4251c452-8d60-4dcf-886a-d64759017d30",
   "metadata": {},
   "outputs": [
    {
     "name": "stdout",
     "output_type": "stream",
     "text": [
      "2\n",
      "2\n",
      "2\n",
      "3\n",
      "3\n",
      "3\n"
     ]
    }
   ],
   "source": [
    "for i in [2,2,2,3,3,3]:\n",
    "    result = f\"{i}\"\n",
    "    print(i)"
   ]
  },
  {
   "cell_type": "code",
   "execution_count": 163,
   "id": "5b1689a3-ff77-4faa-a78c-1a8fa2d3be57",
   "metadata": {},
   "outputs": [
    {
     "name": "stdout",
     "output_type": "stream",
     "text": [
      " 2^3 * 3^3\n"
     ]
    }
   ],
   "source": [
    "result = \"\"\n",
    "x = [2,2,2,3,3,3]\n",
    "for i in set(x):\n",
    "    num = x.count(i)\n",
    "    if num == 1:\n",
    "        result += f\" * {i}\"\n",
    "    else:\n",
    "        result += f\" * {i}^{num}\"\n",
    "print(result[2:])"
   ]
  },
  {
   "cell_type": "code",
   "execution_count": 149,
   "id": "b168745f-2898-494b-b385-2dc3adbf0812",
   "metadata": {},
   "outputs": [
    {
     "data": {
      "text/plain": [
       "42844284"
      ]
     },
     "execution_count": 149,
     "metadata": {},
     "output_type": "execute_result"
    }
   ],
   "source": [
    "2**2 * 3**2 * 7 * 17 * 73 * 137"
   ]
  },
  {
   "cell_type": "markdown",
   "id": "7989e7f8-c6f1-4bdb-8241-0c17e797f4e4",
   "metadata": {},
   "source": [
    "Miller-Rabin Algorithm 測是否為質數\n",
    "Pollard's Rho Algorithm 用遞迴寫法，像是 Divide and Conquer 那種感覺，把所有質因數找出來"
   ]
  },
  {
   "cell_type": "markdown",
   "id": "37ced9b5-df65-462b-974b-71182b9343c2",
   "metadata": {},
   "source": [
    "## a233: 排序法~~~ 挑戰極限\n",
    "\n",
    "顧名思義 就是要把東西排列的 很快\n"
   ]
  },
  {
   "cell_type": "code",
   "execution_count": null,
   "id": "66740abf-cdb2-4aed-94bd-433d94e69c67",
   "metadata": {},
   "outputs": [],
   "source": [
    "# Divide and Conquer V1\n",
    "\n",
    "def parse(input_str):\n",
    "    return [int(s) for s in input_str.split()]\n",
    "\n",
    "def merge_sort(nums):\n",
    "    if len(nums) == 1:\n",
    "        return nums\n",
    "    mid = len(nums) // 2\n",
    "    l = merge_sort(nums[:mid])\n",
    "    r = merge_sort(nums[mid:])\n",
    "    return merge(l, r)\n",
    "\n",
    "def merge(l, r):\n",
    "    length = len(l) + len(r)\n",
    "    sorted_num = [0 for _ in range(len(l) + len(r))]\n",
    "    for i in range(len(sorted_num)):\n",
    "        if len(l) == 0:\n",
    "            sorted_num[:len(r)] = r\n",
    "            break\n",
    "        if len(r) == 0:\n",
    "            sorted_num[:len(l)] = l\n",
    "            break\n",
    "        if l[-1] > r[-1]:\n",
    "            sorted_num[-i-1] = l.pop()\n",
    "        else:\n",
    "            sorted_num[-i-1] = r.pop()\n",
    "    return sorted_num\n",
    "            \n",
    "def solution(x=None):\n",
    "    if x is None:\n",
    "        N = input()\n",
    "        x = input()\n",
    "    print(\" \".join([f\"{i}\" for i in merge_sort(parse(x))])) # fail, but using built-in sorted pass XD\n",
    "solution()"
   ]
  },
  {
   "cell_type": "code",
   "execution_count": 271,
   "id": "3b042638-602c-440d-b65f-6c99d3925a7b",
   "metadata": {},
   "outputs": [],
   "source": [
    "# Divide and Conquer V2\n",
    "\n",
    "def parse(input_str):\n",
    "    # return [int(s) for s in input_str.split(\" \")] # 用 \" \" 會錯 -> 我想是他的 input 有 tail-space, 有空格會多一個 [1,2,3,..,''] 導致 parser 出錯\n",
    "    return [int(s) for s in input_str.split()]\n",
    "\n",
    "def merge_sort(nums):\n",
    "    if len(nums) == 1:\n",
    "        return nums\n",
    "    mid = len(nums) // 2\n",
    "    l = merge_sort(nums[:mid])\n",
    "    r = merge_sort(nums[mid:])\n",
    "    # print(l, r)\n",
    "    return merge(l, r)\n",
    "\n",
    "def merge(l, r):\n",
    "    length = len(l) + len(r)\n",
    "    sorted_num = [0 for _ in range(len(l) + len(r))]\n",
    "    li, ri = 0, 0 # using index is faster than pop()\n",
    "    for i in range(len(sorted_num)):\n",
    "        if li == len(l):\n",
    "            sorted_num[i:] = r[ri:]\n",
    "            break\n",
    "        if ri == len(r):\n",
    "            sorted_num[i:] = l[li:]\n",
    "            break\n",
    "        if l[li] < r[ri]:\n",
    "            sorted_num[i] = l[li]\n",
    "            li += 1\n",
    "        else:\n",
    "            sorted_num[i] = r[ri]\n",
    "            ri += 1\n",
    "    return sorted_num\n",
    "            \n",
    "def solution(x=None):\n",
    "    if x is None:\n",
    "        N = input()\n",
    "        x = input()\n",
    "    print(\" \".join([f\"{i}\" for i in merge_sort(parse(x))]))       \n",
    "        "
   ]
  },
  {
   "cell_type": "code",
   "execution_count": 272,
   "id": "1a673300-6692-4227-bb63-c9adb9bda3b9",
   "metadata": {},
   "outputs": [
    {
     "data": {
      "text/plain": [
       "[1, 2, 3, 7, 8, 9, 10, 1000]"
      ]
     },
     "execution_count": 272,
     "metadata": {},
     "output_type": "execute_result"
    }
   ],
   "source": [
    "merge_sort([3,2,1,10,8,7,9,1000])"
   ]
  },
  {
   "cell_type": "markdown",
   "id": "cbbddd43-1f12-4b2a-a6fb-f4aac8c47604",
   "metadata": {},
   "source": [
    "## a290: 新手訓練系列 ~ 圖論"
   ]
  }
 ],
 "metadata": {
  "kernelspec": {
   "display_name": "Python 3 (ipykernel)",
   "language": "python",
   "name": "python3"
  },
  "language_info": {
   "codemirror_mode": {
    "name": "ipython",
    "version": 3
   },
   "file_extension": ".py",
   "mimetype": "text/x-python",
   "name": "python",
   "nbconvert_exporter": "python",
   "pygments_lexer": "ipython3",
   "version": "3.13.0"
  }
 },
 "nbformat": 4,
 "nbformat_minor": 5
}
